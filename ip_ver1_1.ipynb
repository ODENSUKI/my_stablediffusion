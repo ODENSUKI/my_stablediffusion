{
 "cells": [
  {
   "cell_type": "code",
   "execution_count": null,
   "id": "797ba160-6e2d-47d1-bf9d-8729002f43fd",
   "metadata": {},
   "outputs": [],
   "source": [
    "import os\n",
    "\n",
    "os.environ[\"http_proxy\"] = \"http://proxy50.adm.toyota.co.jp:15520\"\n",
    "os.environ[\"https_proxy\"] = \"http://proxy50.adm.toyota.co.jp:15520\""
   ]
  }
 ],
 "metadata": {
  "kernelspec": {
   "display_name": "Python 3 (ipykernel)",
   "language": "python",
   "name": "python3"
  },
  "language_info": {
   "codemirror_mode": {
    "name": "ipython",
    "version": 3
   },
   "file_extension": ".py",
   "mimetype": "text/x-python",
   "name": "python",
   "nbconvert_exporter": "python",
   "pygments_lexer": "ipython3",
   "version": "3.9.13"
  }
 },
 "nbformat": 4,
 "nbformat_minor": 5
}
