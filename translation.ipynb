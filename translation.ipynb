{
 "cells": [
  {
   "cell_type": "code",
   "execution_count": 1,
   "id": "93bde53e-175a-4d02-8939-35597b978caa",
   "metadata": {},
   "outputs": [],
   "source": [
    "import os\n",
    "\n",
    "os.environ[\"http_proxy\"] = \"http://proxy50.adm.toyota.co.jp:15520\"\n",
    "os.environ[\"https_proxy\"] = \"http://proxy50.adm.toyota.co.jp:15520\""
   ]
  },
  {
   "cell_type": "code",
   "execution_count": 14,
   "id": "e03b5040-cfb6-48e2-b0be-ffcafe19bbc3",
   "metadata": {},
   "outputs": [
    {
     "name": "stdout",
     "output_type": "stream",
     "text": [
      "Three cars painted red are parked there.\n"
     ]
    }
   ],
   "source": [
    "import deepl\n",
    "auth_key = \"02d3879a-5518-5110-5169-07c00f98810f:fx\"\n",
    "translator = deepl.Translator(auth_key)\n",
    "\n",
    "input_text = \"赤く塗られた車が３台駐車しています\"\n",
    "\n",
    "result = translator.translate_text(input_text, target_lang=\"EN-US\")\n",
    "print(result.text)"
   ]
  },
  {
   "cell_type": "code",
   "execution_count": null,
   "id": "5f04d7f6-a7f6-4cc8-b5c3-6f2fc3235d06",
   "metadata": {},
   "outputs": [],
   "source": []
  }
 ],
 "metadata": {
  "kernelspec": {
   "display_name": "Python 3 (ipykernel)",
   "language": "python",
   "name": "python3"
  },
  "language_info": {
   "codemirror_mode": {
    "name": "ipython",
    "version": 3
   },
   "file_extension": ".py",
   "mimetype": "text/x-python",
   "name": "python",
   "nbconvert_exporter": "python",
   "pygments_lexer": "ipython3",
   "version": "3.9.13"
  }
 },
 "nbformat": 4,
 "nbformat_minor": 5
}
